{
 "cells": [
  {
   "cell_type": "markdown",
   "id": "5a7b2544",
   "metadata": {},
   "source": [
    "<img src=\"Image/Designer.png\" align=\"right\" alt=\"Logo\" style=\"width:300px;height:300px;\">\n",
    "<h1 style=\"color: Black;\">SQL Case Study 1: Dannys Diner</h1>\n",
    "<h2 style=\"color: Black;\">Introduction</h2>\n",
    "\n",
    "Danny seriously loves Japanese food so in the beginning of 2021, he decides to embark upon a risky venture and opens up a cute little restaurant that sells his 3 favourite foods: sushi, curry and ramen.\n",
    "\n",
    "Danny’s Diner is in need of your assistance to help the restaurant stay afloat - the restaurant has captured some very basic data from their few months of operation but have no idea how to use their data to help them run the business.\n",
    "\n",
    "<h2 style=\"color: Black;\">Problem Statement</h2>\n",
    "\n",
    "Danny wants to use the data to answer a few simple questions about his customers, especially about their visiting patterns, how much money they’ve spent and also which menu items are their favourite. Having this deeper connection with his customers will help him deliver a better and more personalised experience for his loyal customers.\n",
    "\n",
    "He plans on using these insights to help him decide whether he should expand the existing customer loyalty program - additionally he needs help to generate some basic datasets so his team can easily inspect the data without needing to use SQL.\n",
    "\n",
    "Danny has provided you with a sample of his overall customer data due to privacy issues - but he hopes that these examples are enough for you to write fully functioning SQL queries to help him answer his questions!\n",
    "\n",
    "<img src=\"Image/erdia.png\" align=\"right\" alt=\"er_diagram\" style=\"width:500px;height:300px;\">\n",
    "\n",
    "Danny has shared with you 3 key datasets for this case study:\n",
    "- **sales**\n",
    "    - customer_id *varchar(1)*\n",
    "    - order_date  *date*\n",
    "    - product_id *integer*\n",
    "- **menu**\n",
    "    - product_id    *integer*\n",
    "    - product_name  *varchar(5)*\n",
    "    - price         *integer*\n",
    "- **members**\n",
    "    - customer_id  *varchar(1)*\n",
    "    - join_date    *timestamp*\n",
    "\n",
    "<h2 style=\"color: Black;\">Case Study Questions</h2>\n",
    "\n",
    "1. What is the total amount each customer spent at the restaurant?\n",
    "2. How many days has each customer visited the restaurant?\n",
    "3. What was the first item from the menu purchased by each customer?\n",
    "4. What is the most purchased item on the menu and how many times was it purchased by all customers?\n",
    "5. Which item was the most popular for each customer?\n",
    "6. Which item was purchased first by the customer after they became a member?\n",
    "7. Which item was purchased just before the customer became a member?\n",
    "8. What is the total items and amount spent for each member before they became a member?\n",
    "9. If each $1 spent equates to 10 points and sushi has a 2x points multiplier - how many points would each customer have?\n",
    "10. In the first week after a customer joins the program (including their join date) they earn 2x points on all items, not just sushi - how many points do customer A and B have at the end of January?\n",
    "\n",
    "<h2 style=\"color: Black;\">Bonus Questions</h2>\n",
    "\n",
    "1. Create a basic data table that Danny and his team can use to quickly derive insights without needing to join the underlying tables using SQL. Also, add an aditional field to find-out customers who have taken the membership.\n",
    "2. Danny also requires further information about the ranking of customer products, but he purposely does not need the ranking for non-member purchases so he expects null ranking values for the records when customers are not yet part of the loyalty program. Create a table as per Danny's requirement. "
   ]
  },
  {
   "cell_type": "markdown",
   "id": "98ef0bcc",
   "metadata": {},
   "source": [
    "<h2 style=\"color: Blue;\">Database Connection</h2>"
   ]
  },
  {
   "cell_type": "code",
   "execution_count": 1,
   "id": "80b97c61",
   "metadata": {},
   "outputs": [],
   "source": [
    "# Importing libraries\n",
    "\n",
    "import mysql.connector as conn #To make connection with database \n",
    "\n",
    "import pandas as pd #To load retrival data in the form of pandas dataframe \n",
    "\n",
    "from tabulate import tabulate #To show the resultant dataframe into table format"
   ]
  },
  {
   "cell_type": "code",
   "execution_count": 2,
   "id": "919a8cd0",
   "metadata": {},
   "outputs": [
    {
     "data": {
      "text/plain": [
       "<mysql.connector.connection_cext.CMySQLConnection at 0x247338f9410>"
      ]
     },
     "execution_count": 2,
     "metadata": {},
     "output_type": "execute_result"
    }
   ],
   "source": [
    "# Function to connect with the dannys_diner database\n",
    "\n",
    "def database_connection():\n",
    "    db = conn.connect(host='localhost',user='root', password='#Datatalks@1',database='dannys_diner')\n",
    "    global csr\n",
    "    csr = db.cursor()\n",
    "    return db\n",
    "\n",
    "database_connection()\n"
   ]
  },
  {
   "cell_type": "code",
   "execution_count": 3,
   "id": "d84c864c",
   "metadata": {},
   "outputs": [],
   "source": [
    "# Function to execute sql query and output the retrival data\n",
    "\n",
    "def query_execution(query):\n",
    "    csr.execute(query)\n",
    "    output = csr.fetchall()\n",
    "    df = pd.DataFrame(output, columns = csr.column_names)\n",
    "    print(tabulate(df, headers='keys', tablefmt='psql', showindex=False))\n"
   ]
  },
  {
   "cell_type": "markdown",
   "id": "f5b35747",
   "metadata": {},
   "source": [
    "<h2 style=\"color: Blue;\">Case Study Solutions</h2>"
   ]
  },
  {
   "cell_type": "markdown",
   "id": "8193e3ca",
   "metadata": {},
   "source": [
    "### 1. What is the total amount each customer spent at the restaurant?"
   ]
  },
  {
   "cell_type": "code",
   "execution_count": 4,
   "id": "18bed8a7",
   "metadata": {},
   "outputs": [
    {
     "name": "stdout",
     "output_type": "stream",
     "text": [
      "\n",
      "Total amount spent by each customer at the restaurant is ($): \n",
      "\n",
      "+---------------+----------------+\n",
      "| customer_id   |   total_amount |\n",
      "|---------------+----------------|\n",
      "| A             |             76 |\n",
      "| B             |             74 |\n",
      "| C             |             36 |\n",
      "+---------------+----------------+\n"
     ]
    }
   ],
   "source": [
    "query = \"\"\"\n",
    "\n",
    "SELECT\n",
    "\ts.customer_id,\n",
    "\tSUM(price) AS total_amount\n",
    "FROM sales s\n",
    "LEFT JOIN menu m\n",
    "ON s.product_id = m.product_id\n",
    "GROUP BY s.customer_id;\n",
    "\n",
    "\"\"\"\n",
    "\n",
    "print('\\nTotal amount spent by each customer at the restaurant is ($): \\n')\n",
    "query_execution(query)"
   ]
  },
  {
   "cell_type": "markdown",
   "id": "47f409c7",
   "metadata": {},
   "source": [
    "### 2. How many days has each customer visited the restaurant?"
   ]
  },
  {
   "cell_type": "code",
   "execution_count": 5,
   "id": "cf06b1cf",
   "metadata": {},
   "outputs": [
    {
     "name": "stdout",
     "output_type": "stream",
     "text": [
      "\n",
      "Each customer visited the restaurant in days : \n",
      "\n",
      "+---------------+------------------+\n",
      "| customer_id   |   visits_in_days |\n",
      "|---------------+------------------|\n",
      "| A             |                4 |\n",
      "| B             |                6 |\n",
      "| C             |                2 |\n",
      "+---------------+------------------+\n"
     ]
    }
   ],
   "source": [
    "query = \"\"\"\n",
    "\n",
    "SELECT \n",
    "\tcustomer_id,\n",
    "    COUNT(DISTINCT order_date) AS visits_in_days\n",
    "FROM sales\n",
    "GROUP BY customer_id;\n",
    "\n",
    "\"\"\"\n",
    "\n",
    "print('\\nEach customer visited the restaurant in days : \\n')\n",
    "query_execution(query)"
   ]
  },
  {
   "cell_type": "markdown",
   "id": "a17e6379",
   "metadata": {},
   "source": [
    "### 3. What was the first item from the menu purchased by each customer? "
   ]
  },
  {
   "cell_type": "code",
   "execution_count": 6,
   "id": "4bcc3f69",
   "metadata": {},
   "outputs": [
    {
     "name": "stdout",
     "output_type": "stream",
     "text": [
      "\n",
      "First item from the menu purchased by each customer : \n",
      "\n",
      "+---------------+--------------+--------------+\n",
      "| customer_id   | first_item   | order_date   |\n",
      "|---------------+--------------+--------------|\n",
      "| A             | sushi        | 2021-01-01   |\n",
      "| B             | curry        | 2021-01-01   |\n",
      "| C             | ramen        | 2021-01-01   |\n",
      "+---------------+--------------+--------------+\n"
     ]
    }
   ],
   "source": [
    "query = \"\"\"\n",
    "\n",
    "SELECT\n",
    "\tcustomer_id,\n",
    "    product_name as first_item,\n",
    "    order_date\n",
    "FROM (\n",
    "\tSELECT\n",
    "\t\tcustomer_id,\n",
    "\t\torder_date,\n",
    "\t\tproduct_name,\n",
    "        ROW_NUMBER() OVER(PARTITION BY customer_id ORDER BY order_date) AS rn\n",
    "\tFROM sales s\n",
    "\tLEFT JOIN menu m \n",
    "\tON s.product_id = m.product_id\n",
    ") AS sq\n",
    "WHERE sq.rn = 1;\n",
    "\n",
    "\"\"\"\n",
    "\n",
    "print('\\nFirst item from the menu purchased by each customer : \\n')\n",
    "query_execution(query)"
   ]
  },
  {
   "cell_type": "markdown",
   "id": "92d58712",
   "metadata": {},
   "source": [
    "### 4. What is the most purchased item on the menu and how many times was it purchased by all customers? "
   ]
  },
  {
   "cell_type": "code",
   "execution_count": 7,
   "id": "c086a74e",
   "metadata": {},
   "outputs": [
    {
     "name": "stdout",
     "output_type": "stream",
     "text": [
      "\n",
      "Most purchased item & frequency of items purchased by all the customer: \n",
      "\n",
      "+-----------------------+---------------------------------+\n",
      "| most_purchased_item   |   most_purchased_item_frequency |\n",
      "|-----------------------+---------------------------------|\n",
      "| ramen                 |                               8 |\n",
      "+-----------------------+---------------------------------+\n"
     ]
    }
   ],
   "source": [
    "query = \"\"\"\n",
    "\n",
    "WITH cte as (\n",
    "\tSELECT\n",
    "\t\tproduct_name,\n",
    "\t\tcount(*) AS number_of_orders\n",
    "\tFROM sales s\n",
    "\tLEFT JOIN menu m\n",
    "\tON s.product_id = m.product_id\n",
    "\tGROUP BY product_name\n",
    ")\n",
    "SELECT\n",
    "\tproduct_name AS most_purchased_item,\n",
    "    number_of_orders AS most_purchased_item_frequency\n",
    "FROM cte\n",
    "WHERE number_of_orders = (SELECT MAX(number_of_orders) FROM cte);\n",
    "\n",
    "\"\"\"\n",
    "\n",
    "print('\\nMost purchased item & frequency of items purchased by all the customer: \\n')\n",
    "query_execution(query)"
   ]
  },
  {
   "cell_type": "markdown",
   "id": "aa2ad027",
   "metadata": {},
   "source": [
    "### 5. Which item was the most popular for each customer?"
   ]
  },
  {
   "cell_type": "code",
   "execution_count": 8,
   "id": "1c83cd92",
   "metadata": {},
   "outputs": [
    {
     "name": "stdout",
     "output_type": "stream",
     "text": [
      "\n",
      "Most popular item for each customer: \n",
      "\n",
      "+---------------+-----------------+\n",
      "| customer_id   | popular_items   |\n",
      "|---------------+-----------------|\n",
      "| A             | ramen           |\n",
      "| B             | curry           |\n",
      "| B             | sushi           |\n",
      "| B             | ramen           |\n",
      "| C             | ramen           |\n",
      "+---------------+-----------------+\n"
     ]
    }
   ],
   "source": [
    "query = \"\"\"\n",
    "\n",
    "WITH cte AS(\n",
    "\tSELECT \n",
    "\t\tcustomer_id,\n",
    "\t\tproduct_name,\n",
    "\t\tCOUNT(s.product_id) AS ic\n",
    "\tFROM sales s\n",
    "\tJOIN menu m\n",
    "\tON s.product_id = m.product_id\n",
    "\tGROUP BY customer_id, product_name\n",
    ")\n",
    "SELECT\n",
    "\tcustomer_id,\n",
    "    product_name AS popular_items\n",
    "FROM (\n",
    "\tSELECT *,\n",
    "\t\tDENSE_RANK() OVER(PARTITION BY customer_id ORDER BY ic DESC) AS rnk\n",
    "\tFROM cte\n",
    ") AS sq\n",
    "WHERE sq.rnk = 1;\n",
    "\n",
    "\"\"\"\n",
    "\n",
    "print('\\nMost popular item for each customer: \\n')\n",
    "query_execution(query)"
   ]
  },
  {
   "cell_type": "markdown",
   "id": "117d0273",
   "metadata": {},
   "source": [
    "### 6. Which item was purchased first by the customer after they became a member? "
   ]
  },
  {
   "cell_type": "code",
   "execution_count": 9,
   "id": "3540315e",
   "metadata": {},
   "outputs": [
    {
     "name": "stdout",
     "output_type": "stream",
     "text": [
      "\n",
      "First item purchased by the customer after they became a member : \n",
      "\n",
      "+---------------+-------------+--------------+-------------------+\n",
      "| customer_id   | item_name   | order_date   | membership_date   |\n",
      "|---------------+-------------+--------------+-------------------|\n",
      "| A             | curry       | 2021-01-07   | 2021-01-07        |\n",
      "| B             | sushi       | 2021-01-11   | 2021-01-09        |\n",
      "+---------------+-------------+--------------+-------------------+\n"
     ]
    }
   ],
   "source": [
    "query = \"\"\"\n",
    "\n",
    "WITH cte AS (\n",
    "SELECT\n",
    "\ts.customer_id,\n",
    "    s.product_id,\n",
    "    s.order_date,\n",
    "    m.join_date,\n",
    "\tDENSE_RANK() OVER(PARTITION BY s.customer_id ORDER BY s.order_date) AS rnk,\n",
    "    menu.product_name\n",
    "FROM sales s \n",
    "JOIN members m ON s.customer_id = m.customer_id\n",
    "JOIN menu ON s.product_id = menu.product_id\n",
    "WHERE s.order_date >= m.join_date\n",
    ")\n",
    "SELECT \n",
    "\tcustomer_id, \n",
    "    product_name as item_name,\n",
    "    order_date,\n",
    "    join_date as membership_date\n",
    "FROM cte \n",
    "WHERE rnk = 1;\n",
    "\n",
    "\"\"\"\n",
    "\n",
    "print('\\nFirst item purchased by the customer after they became a member : \\n')\n",
    "query_execution(query)"
   ]
  },
  {
   "cell_type": "markdown",
   "id": "b7a491f3",
   "metadata": {},
   "source": [
    "### 7.  Which item was purchased just before the customer became a member?"
   ]
  },
  {
   "cell_type": "code",
   "execution_count": 10,
   "id": "753ce69b",
   "metadata": {},
   "outputs": [
    {
     "name": "stdout",
     "output_type": "stream",
     "text": [
      "\n",
      "Purchased item just before the customer became a member : \n",
      "\n",
      "+---------------+-------------+-------------------+--------------+\n",
      "| customer_id   | item_name   | membership_date   | order_date   |\n",
      "|---------------+-------------+-------------------+--------------|\n",
      "| A             | sushi       | 2021-01-07        | 2021-01-01   |\n",
      "| A             | curry       | 2021-01-07        | 2021-01-01   |\n",
      "| B             | sushi       | 2021-01-09        | 2021-01-04   |\n",
      "+---------------+-------------+-------------------+--------------+\n"
     ]
    }
   ],
   "source": [
    "query = \"\"\"\n",
    "\n",
    "WITH cte AS (\n",
    "SELECT \n",
    "\ts.customer_id,\n",
    "    s.order_date,\n",
    "    s.product_id,\n",
    "    m.product_name,\n",
    "    mb.join_date,\n",
    "RANK() OVER(PARTITION BY s.customer_id ORDER BY mb.join_date, s.order_date DESC) AS rnk\n",
    "FROM sales s \n",
    "JOIN menu m ON m.product_id = s.product_id\n",
    "JOIN members mb ON mb.customer_id = s.customer_id\n",
    "WHERE order_date < join_date\n",
    ")\n",
    "SELECT \n",
    "    customer_id,\n",
    "    product_name as item_name,\n",
    "    join_date as membership_date,\n",
    "    order_date\n",
    "FROM cte\n",
    "WHERE rnk = 1;\n",
    "\n",
    "\"\"\"\n",
    "\n",
    "print('\\nPurchased item just before the customer became a member : \\n')\n",
    "query_execution(query)"
   ]
  },
  {
   "cell_type": "markdown",
   "id": "b2a7f32f",
   "metadata": {},
   "source": [
    "### 8. What is the total items and amount spent for each member before they became a member? "
   ]
  },
  {
   "cell_type": "code",
   "execution_count": 11,
   "id": "13214fe3",
   "metadata": {},
   "outputs": [
    {
     "name": "stdout",
     "output_type": "stream",
     "text": [
      "\n",
      "Total items and total amount spent by each customer before they became a member : \n",
      "\n",
      "+---------------+---------------+---------------+\n",
      "| customer_id   |   total_items |   total_spent |\n",
      "|---------------+---------------+---------------|\n",
      "| A             |             2 |            25 |\n",
      "| B             |             3 |            40 |\n",
      "+---------------+---------------+---------------+\n"
     ]
    }
   ],
   "source": [
    "query = \"\"\"\n",
    "\n",
    "WITH cte AS (\n",
    "SELECT \n",
    "\ts.customer_id,\n",
    "    s.order_date,\n",
    "    s.product_id,\n",
    "    mb.join_date,\n",
    "    m.product_name,\n",
    "    m.price\n",
    "FROM sales s \n",
    "JOIN menu m ON s.product_id = m.product_id\n",
    "JOIN members mb ON mb.customer_id = s.customer_id\n",
    "WHERE order_date < join_date\n",
    ")\n",
    "SELECT \n",
    "\tcustomer_id,\n",
    "    count(product_name) AS total_items,\n",
    "    sum(price) AS total_spent\n",
    "FROM cte\n",
    "GROUP BY customer_id\n",
    "ORDER BY customer_id;\n",
    "\n",
    "\"\"\"\n",
    "\n",
    "print('\\nTotal items and total amount spent by each customer before they became a member : \\n')\n",
    "query_execution(query)"
   ]
  },
  {
   "cell_type": "markdown",
   "id": "aa0398dc",
   "metadata": {},
   "source": [
    "### 9. If each $1 spent equates to 10 points and sushi has a 2x points multiplier - how many points would each customer have? "
   ]
  },
  {
   "cell_type": "code",
   "execution_count": 12,
   "id": "8097e91b",
   "metadata": {},
   "outputs": [
    {
     "name": "stdout",
     "output_type": "stream",
     "text": [
      "\n",
      "Points of each customer : \n",
      "\n",
      "+---------------+----------+\n",
      "| customer_id   |   points |\n",
      "|---------------+----------|\n",
      "| A             |      860 |\n",
      "| B             |      940 |\n",
      "| C             |      360 |\n",
      "+---------------+----------+\n"
     ]
    }
   ],
   "source": [
    "query = \"\"\"\n",
    "\n",
    "SELECT \n",
    "\ts.customer_id,\n",
    "    SUM(CASE WHEN s.product_id = 1 THEN m.price*(2*10)\n",
    "\t\t\t\tELSE m.price*10 END) AS points\n",
    "FROM sales s \n",
    "JOIN menu m ON s.product_id = m.product_id\n",
    "GROUP BY s.customer_id\n",
    "ORDER BY s.customer_id;\n",
    "\n",
    "\"\"\"\n",
    "\n",
    "print('\\nPoints of each customer : \\n')\n",
    "query_execution(query)"
   ]
  },
  {
   "cell_type": "markdown",
   "id": "8764ca1c",
   "metadata": {},
   "source": [
    "### 10. In the first week after a customer joins the program (including their join date) they earn 2x points on all items, not just sushi - how many points do customer A and B have at the end of January? "
   ]
  },
  {
   "cell_type": "code",
   "execution_count": 13,
   "id": "fda2b9be",
   "metadata": {},
   "outputs": [
    {
     "name": "stdout",
     "output_type": "stream",
     "text": [
      "\n",
      "Points A and B customer have at the end of January : \n",
      "\n",
      "+---------------+----------------+\n",
      "| customer_id   |   total_points |\n",
      "|---------------+----------------|\n",
      "| A             |           1370 |\n",
      "| B             |            820 |\n",
      "+---------------+----------------+\n"
     ]
    }
   ],
   "source": [
    "query = \"\"\"\n",
    "\n",
    "WITH cte AS (\n",
    "SELECT\n",
    "\ts.customer_id,\n",
    "    s.order_date,\n",
    "    s.product_id,\n",
    "    mb.join_date,\n",
    "    m.product_name,\n",
    "    m.price,\n",
    "    DATE_ADD(join_date, INTERVAL 6 DAY) AS last_date\n",
    "FROM sales s \n",
    "JOIN menu m ON s.product_id = m.product_id\n",
    "JOIN members mb ON s.customer_id = mb.customer_id\n",
    ")\n",
    "SELECT \n",
    "\tcustomer_id,\n",
    "    sum(CASE WHEN product_id = 1 THEN price*20\n",
    "\t\t\t\tWHEN order_date>= join_date AND order_date <= last_date THEN price*20\n",
    "                ELSE price*10 END) AS total_points\n",
    "FROM cte\n",
    "WHERE order_date <= '2021-01-31'\n",
    "GROUP BY customer_id\n",
    "ORDER BY customer_id;\n",
    "\n",
    "\"\"\"\n",
    "\n",
    "print('\\nPoints A and B customer have at the end of January : \\n')\n",
    "query_execution(query)"
   ]
  },
  {
   "cell_type": "markdown",
   "id": "6e7cd057",
   "metadata": {},
   "source": [
    "<h2 style=\"color: Blue;\">Bonus Questions Solutions</h2>"
   ]
  },
  {
   "cell_type": "markdown",
   "id": "a0ba8977",
   "metadata": {},
   "source": [
    "### 1. Create a basic data table that Danny and his team can use to quickly derive insights without needing to join the underlying tables using SQL. Also, add an aditional field to find-out customers who have taken the membership."
   ]
  },
  {
   "cell_type": "code",
   "execution_count": 14,
   "id": "24364022",
   "metadata": {},
   "outputs": [
    {
     "name": "stdout",
     "output_type": "stream",
     "text": [
      "\n",
      "Basic data table : \n",
      "\n",
      "+---------------+--------------+----------------+---------+--------------+\n",
      "| customer_id   | order_date   | product_name   |   price | membership   |\n",
      "|---------------+--------------+----------------+---------+--------------|\n",
      "| A             | 2021-01-01   | sushi          |      10 | N            |\n",
      "| A             | 2021-01-01   | curry          |      15 | N            |\n",
      "| A             | 2021-01-07   | curry          |      15 | Y            |\n",
      "| A             | 2021-01-10   | ramen          |      12 | Y            |\n",
      "| A             | 2021-01-11   | ramen          |      12 | Y            |\n",
      "| A             | 2021-01-11   | ramen          |      12 | Y            |\n",
      "| B             | 2021-01-01   | curry          |      15 | N            |\n",
      "| B             | 2021-01-02   | curry          |      15 | N            |\n",
      "| B             | 2021-01-04   | sushi          |      10 | N            |\n",
      "| B             | 2021-01-11   | sushi          |      10 | Y            |\n",
      "| B             | 2021-01-16   | ramen          |      12 | Y            |\n",
      "| B             | 2021-02-01   | ramen          |      12 | Y            |\n",
      "| C             | 2021-01-01   | ramen          |      12 | N            |\n",
      "| C             | 2021-01-01   | ramen          |      12 | N            |\n",
      "| C             | 2021-01-07   | ramen          |      12 | N            |\n",
      "+---------------+--------------+----------------+---------+--------------+\n"
     ]
    }
   ],
   "source": [
    "query = \"\"\"\n",
    "\n",
    "SELECT \n",
    "\ts.customer_id,\n",
    "    s.order_date,\n",
    "    m.product_name,\n",
    "    m.price,\n",
    "    CASE\n",
    "\t\tWHEN s.order_date >= mb.join_date THEN 'Y'\n",
    "        ELSE 'N'\n",
    "\tEND AS membership\n",
    "FROM sales s\n",
    "LEFT JOIN members mb ON s.customer_id = mb.customer_id\n",
    "JOIN menu m ON m.product_id = s.product_id\n",
    "ORDER BY s.customer_id, s.order_date;\n",
    "\n",
    "\"\"\"\n",
    "\n",
    "print('\\nBasic data table : \\n')\n",
    "query_execution(query)"
   ]
  },
  {
   "cell_type": "markdown",
   "id": "52419d8e",
   "metadata": {},
   "source": [
    "### 2. Danny also requires further information about the ranking of customer products, but he purposely does not need the ranking for non-member purchases so he expects null ranking values for the records when customers are not yet part of the loyalty program. Create a table as per Danny's requirement. "
   ]
  },
  {
   "cell_type": "code",
   "execution_count": 15,
   "id": "d276bf68",
   "metadata": {},
   "outputs": [
    {
     "name": "stdout",
     "output_type": "stream",
     "text": [
      "\n",
      "Ranking table : \n",
      "\n",
      "+---------------+--------------+----------------+---------+--------------+-----------+\n",
      "| customer_id   | order_date   | product_name   |   price | membership   | ranking   |\n",
      "|---------------+--------------+----------------+---------+--------------+-----------|\n",
      "| A             | 2021-01-01   | sushi          |      10 | N            | null      |\n",
      "| A             | 2021-01-01   | curry          |      15 | N            | null      |\n",
      "| A             | 2021-01-07   | curry          |      15 | Y            | 1         |\n",
      "| A             | 2021-01-10   | ramen          |      12 | Y            | 2         |\n",
      "| A             | 2021-01-11   | ramen          |      12 | Y            | 3         |\n",
      "| A             | 2021-01-11   | ramen          |      12 | Y            | 3         |\n",
      "| B             | 2021-01-01   | curry          |      15 | N            | null      |\n",
      "| B             | 2021-01-02   | curry          |      15 | N            | null      |\n",
      "| B             | 2021-01-04   | sushi          |      10 | N            | null      |\n",
      "| B             | 2021-01-11   | sushi          |      10 | Y            | 1         |\n",
      "| B             | 2021-01-16   | ramen          |      12 | Y            | 2         |\n",
      "| B             | 2021-02-01   | ramen          |      12 | Y            | 3         |\n",
      "| C             | 2021-01-01   | ramen          |      12 | N            | null      |\n",
      "| C             | 2021-01-01   | ramen          |      12 | N            | null      |\n",
      "| C             | 2021-01-07   | ramen          |      12 | N            | null      |\n",
      "+---------------+--------------+----------------+---------+--------------+-----------+\n"
     ]
    }
   ],
   "source": [
    "query = \"\"\"\n",
    "\n",
    "WITH cte AS (\n",
    "SELECT \n",
    "\ts.customer_id,\n",
    "    s.order_date,\n",
    "    m.product_name,\n",
    "    m.price,\n",
    "    CASE\n",
    "\t\tWHEN s.order_date >= mb.join_date THEN 'Y'\n",
    "        ELSE 'N'\n",
    "\tEND AS membership\n",
    "FROM sales s\n",
    "LEFT JOIN members mb ON s.customer_id = mb.customer_id\n",
    "JOIN menu m ON m.product_id = s.product_id\n",
    "ORDER BY s.customer_id, s.order_date\n",
    ")\n",
    "SELECT *,\n",
    "CASE \n",
    "\tWHEN membership = 'Y' THEN RANK() OVER(PARTITION BY customer_id, membership ORDER BY order_date)\n",
    "    ELSE 'null'\n",
    "END AS ranking\n",
    "FROM cte;\n",
    "\n",
    "\"\"\"\n",
    "\n",
    "print('\\nRanking table : \\n')\n",
    "query_execution(query)"
   ]
  },
  {
   "cell_type": "markdown",
   "id": "718f2bb0",
   "metadata": {},
   "source": [
    "<h1 style=\"text-align: center;\">Thank You</h1>\n",
    "\n",
    "*<div style='text-align: right; color: blue;'>- Nur Hasan</div>*\n"
   ]
  }
 ],
 "metadata": {
  "kernelspec": {
   "display_name": "Python 3 (ipykernel)",
   "language": "python",
   "name": "python3"
  },
  "language_info": {
   "codemirror_mode": {
    "name": "ipython",
    "version": 3
   },
   "file_extension": ".py",
   "mimetype": "text/x-python",
   "name": "python",
   "nbconvert_exporter": "python",
   "pygments_lexer": "ipython3",
   "version": "3.11.5"
  }
 },
 "nbformat": 4,
 "nbformat_minor": 5
}
